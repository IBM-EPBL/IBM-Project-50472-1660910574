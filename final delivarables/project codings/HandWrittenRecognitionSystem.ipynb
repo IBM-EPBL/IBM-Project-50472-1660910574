{
  "cells": [
    {
      "cell_type": "code",
      "execution_count": 1,
      "metadata": {
        "id": "cjbH1gMPWxe8"
      },
      "outputs": [],
      "source": [
        "import keras\n",
        "import tensorflow\n",
        "from tensorflow.keras.datasets import mnist\n",
        "from tensorflow.keras.models import Sequential\n",
        "from tensorflow.keras import layers\n",
        "from tensorflow.keras.layers import Dense,Flatten,Conv2D\n",
        "from tensorflow.keras.optimizers import Adam\n",
        "from keras.utils import np_utils\n",
        "\n",
        "\n"
      ]
    },
    {
      "cell_type": "code",
      "execution_count": 2,
      "metadata": {
        "colab": {
          "base_uri": "https://localhost:8080/"
        },
        "id": "40d_tS6tZz_T",
        "outputId": "fe9c13c6-00dd-4f9d-bb12-bfa171d6c3de"
      },
      "outputs": [
        {
          "name": "stdout",
          "output_type": "stream",
          "text": [
            "Downloading data from https://storage.googleapis.com/tensorflow/tf-keras-datasets/mnist.npz\n",
            "11493376/11490434 [==============================] - 0s 0us/step\n",
            "11501568/11490434 [==============================] - 0s 0us/step\n",
            "(60000, 28, 28)\n"
          ]
        }
      ],
      "source": [
        "(x_train,y_train),(x_test,y_test) = mnist.load_data()\n",
        "print(x_train.shape)"
      ]
    },
    {
      "cell_type": "code",
      "execution_count": 3,
      "metadata": {
        "colab": {
          "base_uri": "https://localhost:8080/",
          "height": 282
        },
        "id": "fnoa6lpIaXYQ",
        "outputId": "5e7f50fa-220b-4f62-e118-086b02dbdda0"
      },
      "outputs": [
        {
          "data": {
            "text/plain": [
              "<matplotlib.image.AxesImage at 0x7f8786c79890>"
            ]
          },
          "execution_count": 3,
          "metadata": {},
          "output_type": "execute_result"
        },
        {
          "data": {
            "image/png": "[encoded data removed]",
            "text/plain": [
              "<Figure size 432x288 with 1 Axes>"
            ]
          },
          "metadata": {
            "needs_background": "light"
          },
          "output_type": "display_data"
        }
      ],
      "source": [
        "import matplotlib.pyplot as plt  \n",
        "plt.imshow(x_train[0])\n"
      ]
    },
    {
      "cell_type": "code",
      "execution_count": 4,
      "metadata": {
        "id": "cmxoAeTqbYH1"
      },
      "outputs": [],
      "source": [
        "x_train = x_train.reshape(60000,28,28,1).astype('float32')\n",
        "x_test = x_test.reshape(10000,28,28,1).astype('float32')\n"
      ]
    },
    {
      "cell_type": "code",
      "execution_count": 5,
      "metadata": {
        "colab": {
          "base_uri": "https://localhost:8080/"
        },
        "id": "dLNfmttWb5GX",
        "outputId": "42f4ae85-d7d6-4746-8a15-ca499309c4de"
      },
      "outputs": [
        {
          "name": "stdout",
          "output_type": "stream",
          "text": [
            "[0. 0. 0. 0. 0. 1. 0. 0. 0. 0.]\n"
          ]
        }
      ],
      "source": [
        "number_of_classes = 10\n",
        "\n",
        "y_train = np_utils.to_categorical(y_train,number_of_classes)\n",
        "y_test = np_utils.to_categorical(y_test,number_of_classes)\n",
        "print(y_train[0])"
      ]
    },
    {
      "cell_type": "code",
      "execution_count": 6,
      "metadata": {
        "id": "Jyjucy7QeC6D"
      },
      "outputs": [],
      "source": [
        "#build model\n",
        "model = Sequential()\n",
        "model.add( Conv2D(64,(3,3),input_shape=(28,28,1),activation=\"relu\"))\n",
        "model.add(Conv2D(32,(3,3),activation=\"relu\"))\n",
        "model.add(Flatten())\n",
        "model.add( Dense(number_of_classes,activation=\"softmax\"))"
      ]
    },
    {
      "cell_type": "code",
      "execution_count": 7,
      "metadata": {
        "id": "lLkq41rae3pc"
      },
      "outputs": [],
      "source": [
        "#compile model\n",
        "# model.compile(\n",
        "#               loss = tensorflow.keras.losses.sparse_categorical_crossentropy(from_logits=True),\n",
        "#               optimizer=\"adam\",\n",
        "#               metrics=['accuracy'])\n",
        "model.compile(\n",
        "    loss=\"categorical_crossentropy\",\n",
        "    optimizer=\"adam\",\n",
        "    metrics=[\"accuracy\"]\n",
        ")"
      ]
    },
    {
      "cell_type": "code",
      "execution_count": 8,
      "metadata": {
        "colab": {
          "base_uri": "https://localhost:8080/"
        },
        "id": "vPj3875EfKMw",
        "outputId": "e4a4852b-2432-439e-aaab-d542a433a34d"
      },
      "outputs": [
        {
          "name": "stdout",
          "output_type": "stream",
          "text": [
            "Epoch 1/5\n",
            "1875/1875 [==============================] - 19s 4ms/step - loss: 0.2157 - accuracy: 0.9511 - val_loss: 0.0890 - val_accuracy: 0.9741\n",
            "Epoch 2/5\n",
            "1875/1875 [==============================] - 7s 4ms/step - loss: 0.0722 - accuracy: 0.9777 - val_loss: 0.0856 - val_accuracy: 0.9747\n",
            "Epoch 3/5\n",
            "1875/1875 [==============================] - 7s 3ms/step - loss: 0.0507 - accuracy: 0.9836 - val_loss: 0.0913 - val_accuracy: 0.9734\n",
            "Epoch 4/5\n",
            "1875/1875 [==============================] - 7s 4ms/step - loss: 0.0376 - accuracy: 0.9876 - val_loss: 0.1089 - val_accuracy: 0.9758\n",
            "Epoch 5/5\n",
            "1875/1875 [==============================] - 7s 4ms/step - loss: 0.0277 - accuracy: 0.9911 - val_loss: 0.1137 - val_accuracy: 0.9754\n"
          ]
        },
        {
          "data": {
            "text/plain": [
              "<keras.callbacks.History at 0x7f870a5e2a10>"
            ]
          },
          "execution_count": 8,
          "metadata": {},
          "output_type": "execute_result"
        }
      ],
      "source": [
        "#fixing the model\n",
        "model.fit(x_train,\n",
        "          y_train,\n",
        "          validation_data = (x_test,y_test),\n",
        "          epochs=5,\n",
        "          batch_size=32)"
      ]
    },
    {
      "cell_type": "code",
      "execution_count": 8,
      "metadata": {
        "id": "QmMKqXT6gIWb"
      },
      "outputs": [],
      "source": []
    },
    {
      "cell_type": "code",
      "execution_count": 9,
      "metadata": {
        "colab": {
          "base_uri": "https://localhost:8080/"
        },
        "id": "SCjqtW5AfnC2",
        "outputId": "d8892664-0235-4e39-de8d-ef54ef172fb5"
      },
      "outputs": [
        {
          "name": "stdout",
          "output_type": "stream",
          "text": [
            "Test loss and accuracy\n",
            "[0.11372578144073486, 0.9753999710083008]\n"
          ]
        }
      ],
      "source": [
        "metrix = model.evaluate(x_test,y_test,verbose=0)\n",
        "print(\"Test loss and accuracy\")\n",
        "print(metrix)\n"
      ]
    },
    {
      "cell_type": "code",
      "execution_count": 10,
      "metadata": {
        "colab": {
          "base_uri": "https://localhost:8080/"
        },
        "id": "fMy3SvfJlP64",
        "outputId": "65abaed8-d3d3-4386-9aba-d9fcae3f63ea"
      },
      "outputs": [
        {
          "name": "stdout",
          "output_type": "stream",
          "text": [
            "[[4.1243221e-13 3.1413815e-19 1.6396887e-12 9.9113426e-12 9.8040982e-19\n",
            "  5.4714088e-21 2.1568718e-20 1.0000000e+00 6.1066840e-14 1.2872349e-12]\n",
            " [8.4636338e-07 9.1820673e-10 9.9999905e-01 1.8928184e-10 2.7399444e-11\n",
            "  9.8281245e-20 1.0600829e-07 1.0727963e-17 2.8653654e-10 9.1462724e-17]\n",
            " [1.5640342e-08 9.9914706e-01 4.3486602e-06 8.0019559e-12 8.4648206e-04\n",
            "  2.6889209e-09 2.0282604e-09 2.8191571e-10 1.9757842e-06 1.6019640e-12]\n",
            " [1.0000000e+00 4.1220824e-16 1.6044244e-11 4.4781199e-14 3.9946253e-13\n",
            "  1.0083121e-15 3.0570777e-09 1.0398677e-14 1.1238994e-11 1.2726721e-09]]\n"
          ]
        }
      ],
      "source": [
        "predection = model.predict(\n",
        "    x_test[:4]\n",
        ")\n",
        "print(predection)"
      ]
    },
    {
      "cell_type": "code",
      "execution_count": 11,
      "metadata": {
        "colab": {
          "base_uri": "https://localhost:8080/"
        },
        "id": "L8gs3QQJljy4",
        "outputId": "bd5566a4-144c-41da-c8b1-d9b963c8f5f3"
      },
      "outputs": [
        {
          "name": "stdout",
          "output_type": "stream",
          "text": [
            "[7 2 1 0]\n"
          ]
        }
      ],
      "source": [
        "import numpy as np\n",
        "print( np.argmax(predection,axis=1))"
      ]
    },
    {
      "cell_type": "code",
      "execution_count": 12,
      "metadata": {
        "id": "UtBH9nprl5Yt"
      },
      "outputs": [],
      "source": [
        "model.save('models/mnistCNN.h5')"
      ]
    }
  ],
  "metadata": {
    "accelerator": "GPU",
    "colab": {
      "collapsed_sections": [],
      "name": "HandWritingDetection.ipynb",
      "provenance": []
    },
    "gpuClass": "standard",
    "kernelspec": {
      "display_name": "Python 3.10.6 64-bit",
      "language": "python",
      "name": "python3"
    },
    "language_info": {
      "name": "python",
      "version": "3.10.6"
    },
    "vscode": {
      "interpreter": {
        "hash": "d02f4df334e11414144c881f4d54e43a37e1990bac50c94212f8b6961bd083f7"
      }
    }
  },
  "nbformat": 4,
  "nbformat_minor": 0
}
